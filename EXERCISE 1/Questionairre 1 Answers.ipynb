{
  "nbformat": 4,
  "nbformat_minor": 0,
  "metadata": {
    "colab": {
      "provenance": []
    },
    "kernelspec": {
      "name": "python3",
      "display_name": "Python 3"
    },
    "language_info": {
      "name": "python"
    }
  },
  "cells": [
    {
      "cell_type": "markdown",
      "source": [
        "QUESTION 1"
      ],
      "metadata": {
        "id": "A-Fn7UpPOw2D"
      }
    },
    {
      "cell_type": "code",
      "source": [
        "# Print a simple messag\n",
        "print('Hello,World!')"
      ],
      "metadata": {
        "colab": {
          "base_uri": "https://localhost:8080/"
        },
        "id": "6J93NGn6O1sH",
        "outputId": "f206ae34-97b5-490a-e9df-8014521bef70"
      },
      "execution_count": 1,
      "outputs": [
        {
          "output_type": "stream",
          "name": "stdout",
          "text": [
            "Hello,World!\n"
          ]
        }
      ]
    },
    {
      "cell_type": "markdown",
      "source": [
        "QUESTION 2"
      ],
      "metadata": {
        "id": "IoHyOSz1QApk"
      }
    },
    {
      "cell_type": "code",
      "source": [
        "# Print multiple items in one statement\n",
        "print('Name: manzar, Age: 14, City: nowshehra')"
      ],
      "metadata": {
        "colab": {
          "base_uri": "https://localhost:8080/"
        },
        "id": "AtZgD9fyQG9X",
        "outputId": "a130488d-f248-422d-bd72-b250e01e6657"
      },
      "execution_count": 3,
      "outputs": [
        {
          "output_type": "stream",
          "name": "stdout",
          "text": [
            "Name: manzar, Age: 14, City: nowshehra\n"
          ]
        }
      ]
    },
    {
      "cell_type": "markdown",
      "source": [
        "QUESTION 3"
      ],
      "metadata": {
        "id": "lL3sZO5nRI4U"
      }
    },
    {
      "cell_type": "code",
      "source": [
        "print('Welcome to Python!')\n",
        "print('''let's learn coding.''')\n"
      ],
      "metadata": {
        "colab": {
          "base_uri": "https://localhost:8080/"
        },
        "id": "M8YHqoqIRPsX",
        "outputId": "8ad23996-815a-4bea-fb39-9dee3f702447"
      },
      "execution_count": 5,
      "outputs": [
        {
          "output_type": "stream",
          "name": "stdout",
          "text": [
            "Welcome to Python!\n",
            "let's learn coding.\n"
          ]
        }
      ]
    },
    {
      "cell_type": "markdown",
      "source": [
        "QUESTION 4"
      ],
      "metadata": {
        "id": "23fThammTlTr"
      }
    },
    {
      "cell_type": "code",
      "source": [
        "print('He said,\"python is amazing!\"')"
      ],
      "metadata": {
        "colab": {
          "base_uri": "https://localhost:8080/"
        },
        "id": "8nhIgcF9Tq_4",
        "outputId": "b1a5153c-8173-4f8b-f8bb-4833ef4d6505"
      },
      "execution_count": 9,
      "outputs": [
        {
          "output_type": "stream",
          "name": "stdout",
          "text": [
            "He said,\"python is amazing!\"\n"
          ]
        }
      ]
    }
  ]
}